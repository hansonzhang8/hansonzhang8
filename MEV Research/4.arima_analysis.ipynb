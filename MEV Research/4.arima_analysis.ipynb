{
 "cells": [
  {
   "cell_type": "code",
   "execution_count": null,
   "id": "deac55d6-5c05-44b7-83ed-7f65cbb8f45d",
   "metadata": {},
   "outputs": [],
   "source": [
    "#############################\n",
    "## Load necessary packages ##\n",
    "#############################\n",
    "import pandas as pd\n",
    "import numpy as np\n",
    "import matplotlib.pyplot as plt\n",
    "from statsmodels.tsa.stattools import adfuller\n",
    "from statsmodels.graphics.tsaplots import plot_acf, plot_pacf\n",
    "from statsmodels.tsa.arima.model import ARIMA\n",
    "import os"
   ]
  },
  {
   "cell_type": "code",
   "execution_count": null,
   "id": "0e48ba15-5578-42b0-8ca5-e0ba33ced5bc",
   "metadata": {},
   "outputs": [],
   "source": [
    "####################\n",
    "## Importing Data ##\n",
    "####################\n",
    "# Construct the file path\n",
    "desktop_path = os.path.expanduser('~/Desktop')\n",
    "file_path = os.path.join(desktop_path, 'mev_research', 'mev_data', 'mev_2023_q1_cleaned.csv')\n",
    "# Load the CSV file into a pandas DataFrame\n",
    "mev_2023_q1_cleaned = pd.read_csv(file_path)\n",
    "print(mev_2023_q1_cleaned.head())\n",
    "print(mev_2023_q1_cleaned.columns)\n",
    "# Check the 'log_return' series\n",
    "mev_2023_q1_cleaned['log_return'].plot(title='Log Returns Over Time')\n",
    "plt.show()"
   ]
  },
  {
   "cell_type": "code",
   "execution_count": null,
   "id": "505556b9-1cc1-489f-90ac-059b7f4703b4",
   "metadata": {},
   "outputs": [],
   "source": [
    "##############################################\n",
    "## Rolling Variance ARIMA Analysis 16 Slots ##\n",
    "##############################################\n",
    "# Define variable\n",
    "log_returns = mev_2023_q1_cleaned['log_return'].values\n",
    "actual_prices = mev_2023_q1_cleaned['proposer_total_reward_in_eth'].values\n",
    "log_prices = np.log(actual_prices)\n",
    "\n",
    "# Define window size\n",
    "window_size = 16\n",
    "# Calculate block variance\n",
    "block_variances_16blocks = [log_returns[i:i+window_size].var() for i in range(0, len(log_returns), window_size) if i+window_size <= len(log_returns)]\n",
    "# Convert to Series for further analysis\n",
    "rolling_variance_16slots = pd.Series(block_variances_16blocks)\n",
    "\n",
    "# Plotting ACF for 16 Slots rolling variance\n",
    "plt.figure(figsize=(12, 6))\n",
    "plot_acf(rolling_variance_16slots, lags=40, alpha=0.05)  # Change lags as needed\n",
    "plt.title('Autocorrelation Function (ACF) for Rolling Variance 16slots')\n",
    "plt.show()\n",
    "\n",
    "# Plotting PACF for 16 Slots rolling variance\n",
    "plt.figure(figsize=(12, 6))\n",
    "plot_pacf(rolling_variance_16slots, lags=40, alpha=0.05)  # Change lags as needed\n",
    "plt.title('Partial Autocorrelation Function (PACF) for Rolling Variance 16slots')\n",
    "plt.show()"
   ]
  },
  {
   "cell_type": "code",
   "execution_count": null,
   "id": "24298780-47ce-44a6-ab28-5f32a595ba1e",
   "metadata": {},
   "outputs": [],
   "source": [
    "##############################################\n",
    "## Rolling Variance ARIMA Analysis 32 Slots ##\n",
    "##############################################\n",
    "# Define window size\n",
    "window_size = 32\n",
    "# Calculate block variance\n",
    "block_variances_32blocks = [log_returns[i:i+window_size].var() for i in range(0, len(log_returns), window_size) if i+window_size <= len(log_returns)]\n",
    "# Convert to Series for further analysis\n",
    "rolling_variance_32slots = pd.Series(block_variances_32blocks)\n",
    "\n",
    "# Plotting ACF for 32 Slots rolling variance\n",
    "plt.figure(figsize=(12, 6))\n",
    "plot_acf(rolling_variance_32slots, lags=40, alpha=0.05)  # Change lags as needed\n",
    "plt.title('Autocorrelation Function (ACF) for Rolling Variance 32slots')\n",
    "plt.show()\n",
    "\n",
    "# Plotting PACF for 32 Slots rolling variance\n",
    "plt.figure(figsize=(12, 6))\n",
    "plot_pacf(rolling_variance_32slots, lags=40, alpha=0.05)  # Change lags as needed\n",
    "plt.title('Partial Autocorrelation Function (PACF) for Rolling Variance 32slots')\n",
    "plt.show()"
   ]
  },
  {
   "cell_type": "code",
   "execution_count": null,
   "id": "14169a4c-227f-468b-8eb3-d55e66c4efdf",
   "metadata": {},
   "outputs": [],
   "source": [
    "##########################\n",
    "## Check for Stationary ##\n",
    "##########################\n",
    "result = adfuller(rolling_variance_32slots)\n",
    "print('ADF Statistic:', result[0])\n",
    "print('p-value:', result[1])"
   ]
  },
  {
   "cell_type": "code",
   "execution_count": null,
   "id": "cf9ea42c-63a0-4125-9dfa-49b323f1d91a",
   "metadata": {},
   "outputs": [],
   "source": [
    "######################################\n",
    "## Check Lag Signifiance with ARIMA ##\n",
    "######################################\n",
    "# Define the ARIMA model\n",
    "model = ARIMA(rolling_variance_32slots, order=(1, 0, 5))\n",
    "# Fit the model\n",
    "model_fit = model.fit()\n",
    "# Print model summary\n",
    "print(model_fit.summary())"
   ]
  },
  {
   "cell_type": "code",
   "execution_count": null,
   "id": "38df3440-459e-478f-9315-f9e6974e4508",
   "metadata": {},
   "outputs": [],
   "source": [
    "##############################################\n",
    "## Rolling Variance ARIMA Analysis 150 Slots ##\n",
    "##############################################\n",
    "# Define window size\n",
    "window_size = 150\n",
    "# Calculate block variance\n",
    "block_variances_150blocks = [log_returns[i:i+window_size].var() for i in range(0, len(log_returns), window_size) if i+window_size <= len(log_returns)]\n",
    "# Convert to Series for further analysis\n",
    "rolling_variance_150slots = pd.Series(block_variances_150blocks)\n",
    "\n",
    "# Plotting ACF for 150 Slots rolling variance\n",
    "plt.figure(figsize=(12, 6))\n",
    "plot_acf(rolling_variance_150slots, lags=40, alpha=0.05)  # Change lags as needed\n",
    "plt.title('Autocorrelation Function (ACF) for Rolling Variance 150slots')\n",
    "plt.show()\n",
    "\n",
    "# Plotting PACF for 150 Slots rolling variance\n",
    "plt.figure(figsize=(12, 6))\n",
    "plot_pacf(rolling_variance_150slots, lags=40, alpha=0.05)  # Change lags as needed\n",
    "plt.title('Partial Autocorrelation Function (PACF) for Rolling Variance 150slots')\n",
    "plt.show()"
   ]
  },
  {
   "cell_type": "code",
   "execution_count": null,
   "id": "0f9426a6-f0b2-4822-9eab-46cee661d97e",
   "metadata": {},
   "outputs": [],
   "source": [
    "##########################\n",
    "## Check for Stationary ##\n",
    "##########################\n",
    "result = adfuller(rolling_variance_150slots)\n",
    "print('ADF Statistic:', result[0])\n",
    "print('p-value:', result[1])"
   ]
  },
  {
   "cell_type": "code",
   "execution_count": null,
   "id": "2bfe0362-586a-4588-b866-a1fda5771709",
   "metadata": {},
   "outputs": [],
   "source": [
    "######################################\n",
    "## Check Lag Signifiance with ARIMA ##\n",
    "######################################\n",
    "# Define the ARIMA model\n",
    "model = ARIMA(rolling_variance_150slots, order=(10, 0, 5))\n",
    "# Fit the model\n",
    "model_fit = model.fit()\n",
    "# Print model summary\n",
    "print(model_fit.summary())"
   ]
  },
  {
   "cell_type": "code",
   "execution_count": null,
   "id": "26e1808a-36eb-40d1-9a17-a40b25b4626d",
   "metadata": {},
   "outputs": [],
   "source": [
    "##############################################\n",
    "## Rolling Variance ARIMA Analysis 300 Slots ##\n",
    "##############################################\n",
    "# Define window size\n",
    "window_size = 300\n",
    "# Calculate block variance\n",
    "block_variances_300blocks = [log_returns[i:i+window_size].var() for i in range(0, len(log_returns), window_size) if i+window_size <= len(log_returns)]\n",
    "# Convert to Series for further analysis\n",
    "rolling_variance_300slots = pd.Series(block_variances_300blocks)\n",
    "\n",
    "# Plotting ACF for 300 Slots rolling variance\n",
    "plt.figure(figsize=(12, 6))\n",
    "plot_acf(rolling_variance_300slots, lags=40, alpha=0.05)  # Change lags as needed\n",
    "plt.title('Autocorrelation Function (ACF) for Rolling Variance 300slots')\n",
    "plt.show()\n",
    "\n",
    "# Plotting PACF for 300 Slots rolling variance\n",
    "plt.figure(figsize=(12, 6))\n",
    "plot_pacf(rolling_variance_300slots, lags=40, alpha=0.05)  # Change lags as needed\n",
    "plt.title('Partial Autocorrelation Function (PACF) for Rolling Variance 300slots')\n",
    "plt.show()"
   ]
  },
  {
   "cell_type": "code",
   "execution_count": null,
   "id": "5c84543c-f1ab-4649-9198-db799dde122e",
   "metadata": {},
   "outputs": [],
   "source": [
    "##########################\n",
    "## Check for Stationary ##\n",
    "##########################\n",
    "result = adfuller(rolling_variance_300slots)\n",
    "print('ADF Statistic:', result[0])\n",
    "print('p-value:', result[1])"
   ]
  },
  {
   "cell_type": "code",
   "execution_count": null,
   "id": "f1489448-c605-4338-afcd-32a33b9176be",
   "metadata": {},
   "outputs": [],
   "source": [
    "######################################\n",
    "## Check Lag Signifiance with ARIMA ##\n",
    "######################################\n",
    "# Define the ARIMA model\n",
    "model = ARIMA(rolling_variance_300slots, order=(5, 0, 5))\n",
    "# Fit the model\n",
    "model_fit = model.fit()\n",
    "# Print model summary\n",
    "print(model_fit.summary())"
   ]
  },
  {
   "cell_type": "code",
   "execution_count": null,
   "id": "9061664c-c479-4839-b0b3-63e33ef72654",
   "metadata": {},
   "outputs": [],
   "source": [
    "##############################################\n",
    "## Rolling Variance ARIMA Analysis 900 Slots ##\n",
    "##############################################\n",
    "# Define window size\n",
    "window_size = 900\n",
    "# Calculate block variance\n",
    "block_variances_900blocks = [log_returns[i:i+window_size].var() for i in range(0, len(log_returns), window_size) if i+window_size <= len(log_returns)]\n",
    "# Convert to Series for further analysis\n",
    "rolling_variance_900slots = pd.Series(block_variances_900blocks)\n",
    "print(len(rolling_variance_900slots))\n",
    "# Plotting ACF for 900 Slots rolling variance\n",
    "plt.figure(figsize=(12, 6))\n",
    "plot_acf(rolling_variance_900slots, lags=40, alpha=0.05)  # Change lags as needed\n",
    "plt.title('Autocorrelation Function (ACF) for Rolling Variance 900slots')\n",
    "plt.show()\n",
    "\n",
    "# Plotting PACF for 900 Slots rolling variance\n",
    "plt.figure(figsize=(12, 6))\n",
    "plot_pacf(rolling_variance_900slots, lags=40, alpha=0.05)  # Change lags as needed\n",
    "plt.title('Partial Autocorrelation Function (PACF) for Rolling Variance 900slots')\n",
    "plt.show()"
   ]
  },
  {
   "cell_type": "code",
   "execution_count": null,
   "id": "d0633789-57ce-4d9b-ab47-a4ce40dc8aaa",
   "metadata": {},
   "outputs": [],
   "source": [
    "##########################\n",
    "## Check for Stationary ##\n",
    "##########################\n",
    "result = adfuller(rolling_variance_900slots)\n",
    "print('ADF Statistic:', result[0])\n",
    "print('p-value:', result[1])"
   ]
  },
  {
   "cell_type": "code",
   "execution_count": null,
   "id": "44829c1b-fc25-4dce-b67d-4357d675075a",
   "metadata": {},
   "outputs": [],
   "source": [
    "######################################\n",
    "## Check Lag Signifiance with ARIMA ##\n",
    "######################################\n",
    "# Define the ARIMA model\n",
    "model = ARIMA(rolling_variance_900slots, order=(2, 0, 3))\n",
    "# Fit the model\n",
    "model_fit = model.fit()\n",
    "# Print model summary\n",
    "print(model_fit.summary())"
   ]
  },
  {
   "cell_type": "code",
   "execution_count": null,
   "id": "395ba951-86a7-4df4-b38d-58dcfc17fab8",
   "metadata": {},
   "outputs": [],
   "source": []
  }
 ],
 "metadata": {
  "kernelspec": {
   "display_name": "Python 3 (ipykernel)",
   "language": "python",
   "name": "python3"
  },
  "language_info": {
   "codemirror_mode": {
    "name": "ipython",
    "version": 3
   },
   "file_extension": ".py",
   "mimetype": "text/x-python",
   "name": "python",
   "nbconvert_exporter": "python",
   "pygments_lexer": "ipython3",
   "version": "3.12.3"
  }
 },
 "nbformat": 4,
 "nbformat_minor": 5
}
